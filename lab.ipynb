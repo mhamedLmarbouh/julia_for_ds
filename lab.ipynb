{
  "cells": [
    {
      "cell_type": "markdown",
      "source": [
        "# Julia for Data Science\n",
        "\n\n",
        "* **LAB**\n",
        "\n"
      ],
      "metadata": {}
    },
    {
      "cell_type": "code",
      "source": [
        "using Pkg\n",
        "Pkg.add(\"DataFrames\")\n",
        "Pkg.add(\"DataFramesMeta\")\n",
        "Pkg.add(\"CSV\")\n",
        "Pkg.add(\"GLM\")\n",
        "Pkg.add(\"Plots\")"
      ],
      "outputs": [],
      "execution_count": null,
      "metadata": {
        "collapsed": false,
        "outputHidden": false,
        "inputHidden": false
      }
    },
    {
      "cell_type": "code",
      "source": [
        "using Statistics\n",
        "using DataFrames\n",
        "using CSV\n",
        "using GLM\n",
        "using Plots\n",
        "PyPlot()"
      ],
      "outputs": [],
      "execution_count": null,
      "metadata": {}
    },
    {
      "cell_type": "markdown",
      "source": [
        "The Sacramento real estate transactions file that we download next is a list of 985 real estate transactions in the Sacramento area reported over a five-day period,"
      ],
      "metadata": {}
    },
    {
      "cell_type": "code",
      "source": [
        "download(\"http://samplecsvs.s3.amazonaws.com/Sacramentorealestatetransactions.csv\",\"houses.csv\")"
      ],
      "outputs": [],
      "execution_count": null,
      "metadata": {}
    },
    {
      "cell_type": "markdown",
      "source": [
        "### 1\n",
        "load the file using CSV.fil()<br>\n",
        "\n",
        "pass it throu pipe |> <br>\n",
        "\nuse DataFrame on it to make it into a dataframe"
      ],
      "metadata": {
        "collapsed": false,
        "outputHidden": false,
        "inputHidden": false
      }
    },
    {
      "cell_type": "code",
      "source": [
        "# CODE HERE\n"
      ],
      "outputs": [],
      "execution_count": null,
      "metadata": {
        "collapsed": false,
        "outputHidden": false,
        "inputHidden": false
      }
    },
    {
      "cell_type": "markdown",
      "source": [
        "### 2\n",
        "\n",
        "create a scatter plot to show the price of a house vs. its square footage<br>\n",
        "\n`scatter(x,y,markersize=3)`"
      ],
      "metadata": {}
    },
    {
      "cell_type": "code",
      "source": [
        "#CODE HERE"
      ],
      "outputs": [],
      "execution_count": null,
      "metadata": {}
    },
    {
      "cell_type": "markdown",
      "source": [
        "### 3\n",
        "*Houses with 0 square feet that cost money?*\n",
        "\n",
        "The square footage seems to not have been recorded in these cases. \n",
        "\nFiltering these houses out and save them in  `filter_houses` and make a new scatter plot "
      ],
      "metadata": {}
    },
    {
      "cell_type": "code",
      "source": [],
      "outputs": [],
      "execution_count": null,
      "metadata": {}
    },
    {
      "cell_type": "markdown",
      "source": [
        "This makes sense! The higher the square footage, the higher the price."
      ],
      "metadata": {}
    },
    {
      "cell_type": "markdown",
      "source": [
        "### 4\n",
        "\nfilter the `DataFrame` by the feature `type` , using the `by` function.and applay the mean function on the price colomun"
      ],
      "metadata": {}
    },
    {
      "cell_type": "code",
      "source": [],
      "outputs": [],
      "execution_count": null,
      "metadata": {}
    },
    {
      "cell_type": "markdown",
      "source": [
        "# Machine Learning"
      ],
      "metadata": {}
    },
    {
      "cell_type": "markdown",
      "source": [
        "Now let's buil a leanear model on this data to predicte house prices.\n",
        "\nwe will use the `GLM` package that we loaded previously to do this."
      ],
      "metadata": {}
    },
    {
      "cell_type": "markdown",
      "source": [
        "syntax:<br>\n",
        "`model = lm(@formula(target ~ feature1 + feature2...), df)`"
      ],
      "metadata": {}
    },
    {
      "cell_type": "code",
      "source": [],
      "outputs": [],
      "execution_count": null,
      "metadata": {
        "collapsed": false,
        "outputHidden": false,
        "inputHidden": false
      }
    },
    {
      "cell_type": "code",
      "source": [
        "predict(model,[1,1714,2])"
      ],
      "outputs": [],
      "execution_count": null,
      "metadata": {
        "collapsed": false,
        "outputHidden": false,
        "inputHidden": false
      }
    }
  ],
  "metadata": {
    "kernelspec": {
      "name": "julia-1.0",
      "language": "julia",
      "display_name": "Julia 1.0.0"
    },
    "language_info": {
      "file_extension": ".jl",
      "name": "julia",
      "mimetype": "application/julia",
      "version": "1.0.0"
    },
    "nteract": {
      "version": "0.11.9"
    },
    "kernel_info": {
      "name": "julia-1.0"
    }
  },
  "nbformat": 4,
  "nbformat_minor": 2
}