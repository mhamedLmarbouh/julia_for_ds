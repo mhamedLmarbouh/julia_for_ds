{
  "cells": [
    {
      "cell_type": "markdown",
      "source": [
        "# Julia for Data Science\n",
        "\n",
        "* Data\n",
        "* **Data processing**\n",
        "* Visualization\n",
        "\n",
        "### Data processing: Data manipulation in Julia\n",
        "In what's next, we will see how to do some manipulation over our Data in Julia."
      ],
      "metadata": {}
    },
    {
      "cell_type": "markdown",
      "source": [
        "## Data Manipulation"
      ],
      "metadata": {
        "collapsed": false,
        "outputHidden": false,
        "inputHidden": false
      }
    },
    {
      "cell_type": "code",
      "source": [
        "using DataFrames, DataFramesMeta\n",
        "using CSV\n",
        "using Statistics"
      ],
      "outputs": [
        {
          "output_type": "stream",
          "name": "stderr",
          "text": [
            "┌ Info: Precompiling DataFramesMeta [1313f7d8-7da2-5740-9ea0-a2ca25f37964]\n",
            "└ @ Base loading.jl:1186\n"
          ]
        }
      ],
      "execution_count": 38,
      "metadata": {}
    },
    {
      "cell_type": "code",
      "source": [
        "df = CSV.File(\"iris_data.csv\") |> DataFrame;"
      ],
      "outputs": [],
      "execution_count": 54,
      "metadata": {
        "collapsed": false,
        "outputHidden": false,
        "inputHidden": false
      }
    },
    {
      "cell_type": "code",
      "source": [
        "head(df)"
      ],
      "outputs": [
        {
          "output_type": "execute_result",
          "execution_count": 56,
          "data": {
            "text/plain": [
              "6×5 DataFrame\n",
              "│ Row │ sepal_length │ sepal_width │ petal_length │ petal_width │ species │\n",
              "│     │ \u001b[90mFloat64⍰\u001b[39m     │ \u001b[90mFloat64⍰\u001b[39m    │ \u001b[90mFloat64⍰\u001b[39m     │ \u001b[90mFloat64⍰\u001b[39m    │ \u001b[90mString⍰\u001b[39m │\n",
              "├─────┼──────────────┼─────────────┼──────────────┼─────────────┼─────────┤\n",
              "│ 1   │ 5.1          │ 3.5         │ 1.4          │ 0.2         │ setosa  │\n",
              "│ 2   │ 4.9          │ 3.0         │ 1.4          │ 0.2         │ setosa  │\n",
              "│ 3   │ 4.7          │ 3.2         │ 1.3          │ 0.2         │ setosa  │\n",
              "│ 4   │ 4.6          │ 3.1         │ 1.5          │ 0.2         │ setosa  │\n",
              "│ 5   │ 5.0          │ 3.6         │ 1.4          │ 0.2         │ setosa  │\n",
              "│ 6   │ 5.4          │ 3.9         │ 1.7          │ 0.4         │ setosa  │"
            ],
            "text/html": [
              "<table class=\"data-frame\"><thead><tr><th></th><th>sepal_length</th><th>sepal_width</th><th>petal_length</th><th>petal_width</th><th>species</th></tr><tr><th></th><th>Float64⍰</th><th>Float64⍰</th><th>Float64⍰</th><th>Float64⍰</th><th>String⍰</th></tr></thead><tbody><tr><th>1</th><td>5.1</td><td>3.5</td><td>1.4</td><td>0.2</td><td>setosa</td></tr><tr><th>2</th><td>4.9</td><td>3.0</td><td>1.4</td><td>0.2</td><td>setosa</td></tr><tr><th>3</th><td>4.7</td><td>3.2</td><td>1.3</td><td>0.2</td><td>setosa</td></tr><tr><th>4</th><td>4.6</td><td>3.1</td><td>1.5</td><td>0.2</td><td>setosa</td></tr><tr><th>5</th><td>5.0</td><td>3.6</td><td>1.4</td><td>0.2</td><td>setosa</td></tr><tr><th>6</th><td>5.4</td><td>3.9</td><td>1.7</td><td>0.4</td><td>setosa</td></tr></tbody></table>"
            ]
          },
          "metadata": {}
        }
      ],
      "execution_count": 56,
      "metadata": {
        "collapsed": false,
        "outputHidden": false,
        "inputHidden": false
      }
    },
    {
      "cell_type": "markdown",
      "source": [
        "Ex. let's convert the colomuns types to Float32 and species from String to Categorical"
      ],
      "metadata": {
        "collapsed": false,
        "outputHidden": false,
        "inputHidden": false
      }
    },
    {
      "cell_type": "code",
      "source": [],
      "outputs": [],
      "execution_count": null,
      "metadata": {
        "collapsed": false,
        "outputHidden": false,
        "inputHidden": false
      }
    },
    {
      "cell_type": "code",
      "source": [
        "for i =1:5\n",
        "    if i < 5\n",
        "        df[i] = convert(Array{Float32,1},df[i])\n",
        "    else\n",
        "        categorical!(df,:species)\n",
        "    end\n",
        "end\n",
        "\nhead(df)"
      ],
      "outputs": [
        {
          "output_type": "execute_result",
          "execution_count": 26,
          "data": {
            "text/plain": [
              "6×5 DataFrame. Omitted printing of 1 columns\n",
              "│ Row │ sepal_length │ sepal_width │ petal_length │ petal_width │\n",
              "│     │ \u001b[90mFloat32\u001b[39m      │ \u001b[90mFloat32\u001b[39m     │ \u001b[90mFloat32\u001b[39m      │ \u001b[90mFloat32\u001b[39m     │\n",
              "├─────┼──────────────┼─────────────┼──────────────┼─────────────┤\n",
              "│ 1   │ 5.0          │ 2.0         │ 3.5          │ 1.0         │\n",
              "│ 2   │ 6.0          │ 2.2         │ 4.0          │ 1.0         │\n",
              "│ 3   │ 6.0          │ 2.2         │ 5.0          │ 1.5         │\n",
              "│ 4   │ 6.2          │ 2.2         │ 4.5          │ 1.5         │\n",
              "│ 5   │ 4.5          │ 2.3         │ 1.3          │ 0.3         │\n",
              "│ 6   │ 5.0          │ 2.3         │ 3.3          │ 1.0         │"
            ],
            "text/html": [
              "<table class=\"data-frame\"><thead><tr><th></th><th>sepal_length</th><th>sepal_width</th><th>petal_length</th><th>petal_width</th><th>species</th></tr><tr><th></th><th>Float32</th><th>Float32</th><th>Float32</th><th>Float32</th><th>Categorical…⍰</th></tr></thead><tbody><tr><th>1</th><td>5.0</td><td>2.0</td><td>3.5</td><td>1.0</td><td>versicolor</td></tr><tr><th>2</th><td>6.0</td><td>2.2</td><td>4.0</td><td>1.0</td><td>versicolor</td></tr><tr><th>3</th><td>6.0</td><td>2.2</td><td>5.0</td><td>1.5</td><td>virginica</td></tr><tr><th>4</th><td>6.2</td><td>2.2</td><td>4.5</td><td>1.5</td><td>versicolor</td></tr><tr><th>5</th><td>4.5</td><td>2.3</td><td>1.3</td><td>0.3</td><td>setosa</td></tr><tr><th>6</th><td>5.0</td><td>2.3</td><td>3.3</td><td>1.0</td><td>versicolor</td></tr></tbody></table>"
            ]
          },
          "metadata": {}
        }
      ],
      "execution_count": 26,
      "metadata": {
        "collapsed": false,
        "outputHidden": false,
        "inputHidden": false
      }
    },
    {
      "cell_type": "code",
      "source": [
        "describe(df)"
      ],
      "outputs": [
        {
          "output_type": "execute_result",
          "execution_count": 27,
          "data": {
            "text/plain": [
              "5×8 DataFrame. Omitted printing of 2 columns\n",
              "│ Row │ variable     │ mean    │ min    │ median │ max       │ nunique │\n",
              "│     │ \u001b[90mSymbol\u001b[39m       │ \u001b[90mUnion…\u001b[39m  │ \u001b[90mAny\u001b[39m    │ \u001b[90mUnion…\u001b[39m │ \u001b[90mAny\u001b[39m       │ \u001b[90mUnion…\u001b[39m  │\n",
              "├─────┼──────────────┼─────────┼────────┼────────┼───────────┼─────────┤\n",
              "│ 1   │ sepal_length │ 5.84333 │ 4.3    │ 5.8    │ 7.9       │         │\n",
              "│ 2   │ sepal_width  │ 3.054   │ 2.0    │ 3.0    │ 4.4       │         │\n",
              "│ 3   │ petal_length │ 3.75867 │ 1.0    │ 4.35   │ 6.9       │         │\n",
              "│ 4   │ petal_width  │ 1.19867 │ 0.1    │ 1.3    │ 2.5       │         │\n",
              "│ 5   │ species      │         │ setosa │        │ virginica │ 3       │"
            ],
            "text/html": [
              "<table class=\"data-frame\"><thead><tr><th></th><th>variable</th><th>mean</th><th>min</th><th>median</th><th>max</th><th>nunique</th><th>nmissing</th><th>eltype</th></tr><tr><th></th><th>Symbol</th><th>Union…</th><th>Any</th><th>Union…</th><th>Any</th><th>Union…</th><th>Union…</th><th>DataType</th></tr></thead><tbody><tr><th>1</th><td>sepal_length</td><td>5.84333</td><td>4.3</td><td>5.8</td><td>7.9</td><td></td><td></td><td>Float32</td></tr><tr><th>2</th><td>sepal_width</td><td>3.054</td><td>2.0</td><td>3.0</td><td>4.4</td><td></td><td></td><td>Float32</td></tr><tr><th>3</th><td>petal_length</td><td>3.75867</td><td>1.0</td><td>4.35</td><td>6.9</td><td></td><td></td><td>Float32</td></tr><tr><th>4</th><td>petal_width</td><td>1.19867</td><td>0.1</td><td>1.3</td><td>2.5</td><td></td><td></td><td>Float32</td></tr><tr><th>5</th><td>species</td><td></td><td>setosa</td><td></td><td>virginica</td><td>3</td><td>0</td><td>CategoricalString{UInt32}</td></tr></tbody></table>"
            ]
          },
          "metadata": {}
        }
      ],
      "execution_count": 27,
      "metadata": {
        "collapsed": false,
        "outputHidden": false,
        "inputHidden": false
      }
    },
    {
      "cell_type": "code",
      "source": [
        "groupby(df, :species)"
      ],
      "outputs": [
        {
          "output_type": "execute_result",
          "execution_count": 28,
          "data": {
            "text/plain": [
              "GroupedDataFrame with 3 groups based on key: :species\n",
              "First Group: 50 rows. Omitted printing of 1 columns\n",
              "│ Row │ sepal_length │ sepal_width │ petal_length │ petal_width │\n",
              "│     │ \u001b[90mFloat32\u001b[39m      │ \u001b[90mFloat32\u001b[39m     │ \u001b[90mFloat32\u001b[39m      │ \u001b[90mFloat32\u001b[39m     │\n",
              "├─────┼──────────────┼─────────────┼──────────────┼─────────────┤\n",
              "│ 1   │ 5.0          │ 2.0         │ 3.5          │ 1.0         │\n",
              "│ 2   │ 6.0          │ 2.2         │ 4.0          │ 1.0         │\n",
              "│ 3   │ 6.2          │ 2.2         │ 4.5          │ 1.5         │\n",
              "│ 4   │ 5.0          │ 2.3         │ 3.3          │ 1.0         │\n",
              "│ 5   │ 5.5          │ 2.3         │ 4.0          │ 1.3         │\n",
              "│ 6   │ 6.3          │ 2.3         │ 4.4          │ 1.3         │\n",
              "│ 7   │ 4.9          │ 2.4         │ 3.3          │ 1.0         │\n",
              "│ 8   │ 5.5          │ 2.4         │ 3.8          │ 1.1         │\n",
              "│ 9   │ 5.5          │ 2.4         │ 3.7          │ 1.0         │\n",
              "│ 10  │ 5.1          │ 2.5         │ 3.0          │ 1.1         │\n",
              "⋮\n",
              "│ 40  │ 6.1          │ 3.0         │ 4.6          │ 1.4         │\n",
              "│ 41  │ 6.6          │ 3.0         │ 4.4          │ 1.4         │\n",
              "│ 42  │ 6.7          │ 3.0         │ 5.0          │ 1.7         │\n",
              "│ 43  │ 6.7          │ 3.1         │ 4.4          │ 1.4         │\n",
              "│ 44  │ 6.7          │ 3.1         │ 4.7          │ 1.5         │\n",
              "│ 45  │ 6.9          │ 3.1         │ 4.9          │ 1.5         │\n",
              "│ 46  │ 5.9          │ 3.2         │ 4.8          │ 1.8         │\n",
              "│ 47  │ 6.4          │ 3.2         │ 4.5          │ 1.5         │\n",
              "│ 48  │ 7.0          │ 3.2         │ 4.7          │ 1.4         │\n",
              "│ 49  │ 6.3          │ 3.3         │ 4.7          │ 1.6         │\n",
              "│ 50  │ 6.0          │ 3.4         │ 4.5          │ 1.6         │\n",
              "⋮\n",
              "Last Group: 50 rows. Omitted printing of 1 columns\n",
              "│ Row │ sepal_length │ sepal_width │ petal_length │ petal_width │\n",
              "│     │ \u001b[90mFloat32\u001b[39m      │ \u001b[90mFloat32\u001b[39m     │ \u001b[90mFloat32\u001b[39m      │ \u001b[90mFloat32\u001b[39m     │\n",
              "├─────┼──────────────┼─────────────┼──────────────┼─────────────┤\n",
              "│ 1   │ 4.5          │ 2.3         │ 1.3          │ 0.3         │\n",
              "│ 2   │ 4.4          │ 2.9         │ 1.4          │ 0.2         │\n",
              "│ 3   │ 4.3          │ 3.0         │ 1.1          │ 0.1         │\n",
              "│ 4   │ 4.4          │ 3.0         │ 1.3          │ 0.2         │\n",
              "│ 5   │ 4.8          │ 3.0         │ 1.4          │ 0.1         │\n",
              "│ 6   │ 4.8          │ 3.0         │ 1.4          │ 0.3         │\n",
              "│ 7   │ 4.9          │ 3.0         │ 1.4          │ 0.2         │\n",
              "│ 8   │ 5.0          │ 3.0         │ 1.6          │ 0.2         │\n",
              "│ 9   │ 4.6          │ 3.1         │ 1.5          │ 0.2         │\n",
              "│ 10  │ 4.8          │ 3.1         │ 1.6          │ 0.2         │\n",
              "⋮\n",
              "│ 40  │ 5.4          │ 3.7         │ 1.5          │ 0.2         │\n",
              "│ 41  │ 5.1          │ 3.8         │ 1.5          │ 0.3         │\n",
              "│ 42  │ 5.1          │ 3.8         │ 1.9          │ 0.4         │\n",
              "│ 43  │ 5.1          │ 3.8         │ 1.6          │ 0.2         │\n",
              "│ 44  │ 5.7          │ 3.8         │ 1.7          │ 0.3         │\n",
              "│ 45  │ 5.4          │ 3.9         │ 1.7          │ 0.4         │\n",
              "│ 46  │ 5.4          │ 3.9         │ 1.3          │ 0.4         │\n",
              "│ 47  │ 5.8          │ 4.0         │ 1.2          │ 0.2         │\n",
              "│ 48  │ 5.2          │ 4.1         │ 1.5          │ 0.1         │\n",
              "│ 49  │ 5.5          │ 4.2         │ 1.4          │ 0.2         │\n",
              "│ 50  │ 5.7          │ 4.4         │ 1.5          │ 0.4         │"
            ]
          },
          "metadata": {}
        }
      ],
      "execution_count": 28,
      "metadata": {
        "collapsed": false,
        "outputHidden": false,
        "inputHidden": false
      }
    },
    {
      "cell_type": "code",
      "source": [
        "data = by(df, :species, df -> mean(df.petal_length))"
      ],
      "outputs": [
        {
          "output_type": "execute_result",
          "execution_count": 29,
          "data": {
            "text/plain": [
              "3×2 DataFrame\n",
              "│ Row │ species       │ x1      │\n",
              "│     │ \u001b[90mCategorical…⍰\u001b[39m │ \u001b[90mFloat32\u001b[39m │\n",
              "├─────┼───────────────┼─────────┤\n",
              "│ 1   │ versicolor    │ 4.26    │\n",
              "│ 2   │ virginica     │ 5.552   │\n",
              "│ 3   │ setosa        │ 1.464   │"
            ],
            "text/html": [
              "<table class=\"data-frame\"><thead><tr><th></th><th>species</th><th>x1</th></tr><tr><th></th><th>Categorical…⍰</th><th>Float32</th></tr></thead><tbody><tr><th>1</th><td>versicolor</td><td>4.26</td></tr><tr><th>2</th><td>virginica</td><td>5.552</td></tr><tr><th>3</th><td>setosa</td><td>1.464</td></tr></tbody></table>"
            ]
          },
          "metadata": {}
        }
      ],
      "execution_count": 29,
      "metadata": {
        "collapsed": false,
        "outputHidden": false,
        "inputHidden": false
      }
    },
    {
      "cell_type": "code",
      "source": [
        "sort!(df, (:sepal_width, :sepal_length));\n",
        "\n# sort!(df, (:sepal_width, :sepal_length), rev = (true, false))"
      ],
      "outputs": [],
      "execution_count": 57,
      "metadata": {
        "collapsed": false,
        "outputHidden": false,
        "inputHidden": false
      }
    },
    {
      "cell_type": "code",
      "source": [
        "head(df)"
      ],
      "outputs": [
        {
          "output_type": "execute_result",
          "execution_count": 31,
          "data": {
            "text/plain": [
              "6×5 DataFrame. Omitted printing of 1 columns\n",
              "│ Row │ sepal_length │ sepal_width │ petal_length │ petal_width │\n",
              "│     │ \u001b[90mFloat32\u001b[39m      │ \u001b[90mFloat32\u001b[39m     │ \u001b[90mFloat32\u001b[39m      │ \u001b[90mFloat32\u001b[39m     │\n",
              "├─────┼──────────────┼─────────────┼──────────────┼─────────────┤\n",
              "│ 1   │ 5.0          │ 2.0         │ 3.5          │ 1.0         │\n",
              "│ 2   │ 6.0          │ 2.2         │ 4.0          │ 1.0         │\n",
              "│ 3   │ 6.0          │ 2.2         │ 5.0          │ 1.5         │\n",
              "│ 4   │ 6.2          │ 2.2         │ 4.5          │ 1.5         │\n",
              "│ 5   │ 4.5          │ 2.3         │ 1.3          │ 0.3         │\n",
              "│ 6   │ 5.0          │ 2.3         │ 3.3          │ 1.0         │"
            ],
            "text/html": [
              "<table class=\"data-frame\"><thead><tr><th></th><th>sepal_length</th><th>sepal_width</th><th>petal_length</th><th>petal_width</th><th>species</th></tr><tr><th></th><th>Float32</th><th>Float32</th><th>Float32</th><th>Float32</th><th>Categorical…⍰</th></tr></thead><tbody><tr><th>1</th><td>5.0</td><td>2.0</td><td>3.5</td><td>1.0</td><td>versicolor</td></tr><tr><th>2</th><td>6.0</td><td>2.2</td><td>4.0</td><td>1.0</td><td>versicolor</td></tr><tr><th>3</th><td>6.0</td><td>2.2</td><td>5.0</td><td>1.5</td><td>virginica</td></tr><tr><th>4</th><td>6.2</td><td>2.2</td><td>4.5</td><td>1.5</td><td>versicolor</td></tr><tr><th>5</th><td>4.5</td><td>2.3</td><td>1.3</td><td>0.3</td><td>setosa</td></tr><tr><th>6</th><td>5.0</td><td>2.3</td><td>3.3</td><td>1.0</td><td>versicolor</td></tr></tbody></table>"
            ]
          },
          "metadata": {}
        }
      ],
      "execution_count": 31,
      "metadata": {
        "collapsed": false,
        "outputHidden": false,
        "inputHidden": false
      }
    },
    {
      "cell_type": "code",
      "source": [
        "@linq df |> where(:petal_width.< 0.2) |> select(:petal_width,:species)"
      ],
      "outputs": [
        {
          "output_type": "execute_result",
          "execution_count": 46,
          "data": {
            "text/plain": [
              "6×2 DataFrame\n",
              "│ Row │ petal_width │ species       │\n",
              "│     │ \u001b[90mFloat32\u001b[39m     │ \u001b[90mCategorical…⍰\u001b[39m │\n",
              "├─────┼─────────────┼───────────────┤\n",
              "│ 1   │ 0.1         │ setosa        │\n",
              "│ 2   │ 0.1         │ setosa        │\n",
              "│ 3   │ 0.1         │ setosa        │\n",
              "│ 4   │ 0.1         │ setosa        │\n",
              "│ 5   │ 0.1         │ setosa        │\n",
              "│ 6   │ 0.1         │ setosa        │"
            ],
            "text/html": [
              "<table class=\"data-frame\"><thead><tr><th></th><th>petal_width</th><th>species</th></tr><tr><th></th><th>Float32</th><th>Categorical…⍰</th></tr></thead><tbody><tr><th>1</th><td>0.1</td><td>setosa</td></tr><tr><th>2</th><td>0.1</td><td>setosa</td></tr><tr><th>3</th><td>0.1</td><td>setosa</td></tr><tr><th>4</th><td>0.1</td><td>setosa</td></tr><tr><th>5</th><td>0.1</td><td>setosa</td></tr><tr><th>6</th><td>0.1</td><td>setosa</td></tr></tbody></table>"
            ]
          },
          "metadata": {}
        }
      ],
      "execution_count": 46,
      "metadata": {
        "collapsed": false,
        "outputHidden": false,
        "inputHidden": false
      }
    },
    {
      "cell_type": "markdown",
      "source": [
        "# Julia for Data Science\n",
        "\n",
        "* Data\n",
        "* Data processing\n",
        "* **Visualization**\n",
        "\n",
        "### Data visualization: generating nice looking plots in Julia is straight forward\n",
        "In what's next, we will see some of the tools that Julia plotting provides to produce high quality figures for your data."
      ],
      "metadata": {
        "collapsed": false,
        "outputHidden": false,
        "inputHidden": false
      }
    },
    {
      "cell_type": "code",
      "source": [
        "using Plots\n",
        "pyplot()"
      ],
      "outputs": [],
      "execution_count": null,
      "metadata": {
        "collapsed": false,
        "outputHidden": false,
        "inputHidden": false
      }
    },
    {
      "cell_type": "markdown",
      "source": [
        "## Bar Plot"
      ],
      "metadata": {}
    },
    {
      "cell_type": "code",
      "source": [
        "plt = bar(X,Y)\n",
        "plot(plt,xlabel=\"species\",ylabel=\"petal_len_mean\")"
      ],
      "outputs": [],
      "execution_count": null,
      "metadata": {
        "collapsed": false,
        "outputHidden": false,
        "inputHidden": false
      }
    },
    {
      "cell_type": "markdown",
      "source": [
        "## Scatter Plot"
      ],
      "metadata": {}
    },
    {
      "cell_type": "code",
      "source": [
        "plt2 = scatter(df.sepal_length, df.sepal_width,group=df.species)\n",
        "plot(plt2,xlabel = \"Length\", ylabel = \"Width\")"
      ],
      "outputs": [],
      "execution_count": null,
      "metadata": {
        "collapsed": false,
        "outputHidden": false,
        "inputHidden": false
      }
    }
  ],
  "metadata": {
    "kernelspec": {
      "name": "julia-1.0",
      "language": "julia",
      "display_name": "Julia 1.0.0"
    },
    "language_info": {
      "file_extension": ".jl",
      "name": "julia",
      "mimetype": "application/julia",
      "version": "1.0.0"
    },
    "nteract": {
      "version": "0.11.9"
    },
    "kernel_info": {
      "name": "julia-1.0"
    }
  },
  "nbformat": 4,
  "nbformat_minor": 2
}