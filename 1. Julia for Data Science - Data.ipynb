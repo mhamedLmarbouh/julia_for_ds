{
  "cells": [
    {
      "cell_type": "markdown",
      "source": [
        "# Julia for Data Science\n",
        "\n",
        "In this tutorial, we will discuss why *Julia* is the tool you want to use for your data science applications.\n",
        "\n",
        "We will cover the following:\n",
        "* **Data**\n",
        "* Data processing\n",
        "* Visualization\n",
        "\n",
        "### Data: Build a strong relationship with your data.\n",
        "Every data science task has one main ingredient, the _data_! Most likely, you want to use your data to learn something new. But before the _new_ part, what about the data you already have? Let's make sure you can **read** it, **store** it, and **understand** it before you start using it.\n",
        "\n",
        "Julia makes this step really easy with data structures and packages to process the data, as well as, existing functions that are readily usable on your data. \n",
        "\nThe goal of this first part is get you acquainted with some Julia's tools to manage your data."
      ],
      "metadata": {}
    },
    {
      "cell_type": "markdown",
      "source": [
        "First let's download some packages that we will need\n",
        "\nto install packages we use Pkg.add(\"package-name\")"
      ],
      "metadata": {
        "collapsed": false,
        "outputHidden": false,
        "inputHidden": false
      }
    },
    {
      "cell_type": "code",
      "source": [
        "using Pkg\n",
        "Pkg.add(\"CSV\")\n",
        "Pkg.add(\"DataFrames\")"
      ],
      "outputs": [
        {
          "output_type": "stream",
          "name": "stdout",
          "text": [
            "\u001b[32m\u001b[1m Resolving\u001b[22m\u001b[39m package versions...\n",
            "\u001b[32m\u001b[1m  Updating\u001b[22m\u001b[39m `C:\\Users\\mhamed\\.julia\\environments\\v1.0\\Project.toml`\n",
            "\u001b[90m [no changes]\u001b[39m\n",
            "\u001b[32m\u001b[1m  Updating\u001b[22m\u001b[39m `C:\\Users\\mhamed\\.julia\\environments\\v1.0\\Manifest.toml`\n",
            "\u001b[90m [no changes]\u001b[39m\n",
            "\u001b[32m\u001b[1m Resolving\u001b[22m\u001b[39m package versions...\n",
            "\u001b[32m\u001b[1m  Updating\u001b[22m\u001b[39m `C:\\Users\\mhamed\\.julia\\environments\\v1.0\\Project.toml`\n",
            " \u001b[90m [a93c6f00]\u001b[39m\u001b[92m + DataFrames v0.14.1\u001b[39m\n",
            "\u001b[32m\u001b[1m  Updating\u001b[22m\u001b[39m `C:\\Users\\mhamed\\.julia\\environments\\v1.0\\Manifest.toml`\n",
            "\u001b[90m [no changes]\u001b[39m\n"
          ]
        }
      ],
      "execution_count": 71,
      "metadata": {
        "collapsed": false,
        "outputHidden": false,
        "inputHidden": false
      }
    },
    {
      "cell_type": "markdown",
      "source": [
        "First, let's download iris csv file.\n",
        "\nNote: `download` depends on external tools such as curl, wget or fetch. So you must have one of these."
      ],
      "metadata": {}
    },
    {
      "cell_type": "code",
      "source": [
        "iris = download(\"https://raw.githubusercontent.com/uiuc-cse/data-fa14/gh-pages/data/iris.csv\",\"iris_data.csv\")"
      ],
      "outputs": [
        {
          "output_type": "execute_result",
          "execution_count": 1,
          "data": {
            "text/plain": [
              "\"iris_data.csv\""
            ]
          },
          "metadata": {}
        }
      ],
      "execution_count": 1,
      "metadata": {
        "collapsed": true
      }
    },
    {
      "cell_type": "markdown",
      "source": [
        "And there's the *.csv file we downloaded!\n",
        "\nBy default, `readcsv` will fill an array with the data stored in the input .csv file. If we set the keyword argument `header` to `true`, we'll get a second output array."
      ],
      "metadata": {}
    },
    {
      "cell_type": "code",
      "source": [
        "using DelimitedFiles"
      ],
      "outputs": [],
      "execution_count": 12,
      "metadata": {
        "collapsed": false,
        "outputHidden": false,
        "inputHidden": false
      }
    },
    {
      "cell_type": "code",
      "source": [
        "data,header = readdlm(\"iris_data.csv\",',',header=true)"
      ],
      "outputs": [
        {
          "output_type": "execute_result",
          "execution_count": 13,
          "data": {
            "text/plain": [
              "(Any[5.1 3.5 … 0.2 \"setosa\"; 4.9 3 … 0.2 \"setosa\"; … ; 6.2 3.4 … 2.3 \"virginica\"; 5.9 3 … 1.8 \"virginica\"], AbstractString[\"sepal_length\" \"sepal_width\" … \"petal_width\" \"species\"])"
            ]
          },
          "metadata": {}
        }
      ],
      "execution_count": 13,
      "metadata": {
        "collapsed": true
      }
    },
    {
      "cell_type": "code",
      "source": [
        "header"
      ],
      "outputs": [
        {
          "output_type": "execute_result",
          "execution_count": 30,
          "data": {
            "text/plain": [
              "1×5 Array{AbstractString,2}:\n",
              " \"sepal_length\"  \"sepal_width\"  \"petal_length\"  \"petal_width\"  \"species\""
            ]
          },
          "metadata": {}
        }
      ],
      "execution_count": 30,
      "metadata": {
        "collapsed": false,
        "outputHidden": false,
        "inputHidden": false
      }
    },
    {
      "cell_type": "code",
      "source": [
        "data[1:10,:]"
      ],
      "outputs": [
        {
          "output_type": "execute_result",
          "execution_count": 29,
          "data": {
            "text/plain": [
              "10×5 Array{Any,2}:\n",
              " 5.1  3.5  1.4  0.2  \"setosa\"\n",
              " 4.9  3    1.4  0.2  \"setosa\"\n",
              " 4.7  3.2  1.3  0.2  \"setosa\"\n",
              " 4.6  3.1  1.5  0.2  \"setosa\"\n",
              " 5    3.6  1.4  0.2  \"setosa\"\n",
              " 5.4  3.9  1.7  0.4  \"setosa\"\n",
              " 4.6  3.4  1.4  0.3  \"setosa\"\n",
              " 5    3.4  1.5  0.2  \"setosa\"\n",
              " 4.4  2.9  1.4  0.2  \"setosa\"\n",
              " 4.9  3.1  1.5  0.1  \"setosa\""
            ]
          },
          "metadata": {}
        }
      ],
      "execution_count": 29,
      "metadata": {
        "collapsed": false,
        "outputHidden": false,
        "inputHidden": false
      }
    },
    {
      "cell_type": "markdown",
      "source": [
        "Here we write our first small function: <br>\n",
        "\nThis function will allow us to find all the iris flowers with a petal_width less than a pased value"
      ],
      "metadata": {}
    },
    {
      "cell_type": "code",
      "source": [
        "function find_less_than(data, val::Float64, colomun::Int64 = 4)\n",
        "    loc = findall(data[:,colomun].<=val)\n",
        "    return data[loc,:]\n",
        "end"
      ],
      "outputs": [
        {
          "output_type": "execute_result",
          "execution_count": 50,
          "data": {
            "text/plain": [
              "find_less_than (generic function with 5 methods)"
            ]
          },
          "metadata": {}
        }
      ],
      "execution_count": 50,
      "metadata": {
        "collapsed": true
      }
    },
    {
      "cell_type": "code",
      "source": [
        "width_max = 0.15\n",
        "result = find_less_than(data,width_max)\n",
        "result"
      ],
      "outputs": [
        {
          "output_type": "execute_result",
          "execution_count": 53,
          "data": {
            "text/plain": [
              "6×5 Array{Any,2}:\n",
              " 4.9  3.1  1.5  0.1  \"setosa\"\n",
              " 4.8  3    1.4  0.1  \"setosa\"\n",
              " 4.3  3    1.1  0.1  \"setosa\"\n",
              " 5.2  4.1  1.5  0.1  \"setosa\"\n",
              " 4.9  3.1  1.5  0.1  \"setosa\"\n",
              " 4.9  3.1  1.5  0.1  \"setosa\""
            ]
          },
          "metadata": {}
        }
      ],
      "execution_count": 53,
      "metadata": {
        "collapsed": true
      }
    },
    {
      "cell_type": "markdown",
      "source": [
        "**Reading and writing to files is really easy in Julia.** <br>\n",
        "\n",
        "You can use different delimiters with the function `readdlm` \n",
        "\n",
        "To write to files, we can use `writedlm`. <br>\n",
        "\nLet's write this same data to a file with a different delimiter."
      ],
      "metadata": {}
    },
    {
      "cell_type": "code",
      "source": [
        "new_data = [header;result]\n",
        "writedlm(\"iris_petal_width_lt$width_max.txt\", new_data, '-')"
      ],
      "outputs": [],
      "execution_count": 57,
      "metadata": {
        "collapsed": true
      }
    },
    {
      "cell_type": "markdown",
      "source": [
        "and also check that we can use `readdlm` to read our new text file correctly."
      ],
      "metadata": {
        "collapsed": false,
        "outputHidden": false,
        "inputHidden": false
      }
    },
    {
      "cell_type": "code",
      "source": [
        "ir,hd = readdlm(\"iris_petal_width_lt$width_max.txt\",'-' ,header=true)\n",
        "println(hd)\n",
        "ir"
      ],
      "outputs": [
        {
          "output_type": "stream",
          "name": "stdout",
          "text": [
            "AbstractString[\"sepal_length\" \"sepal_width\" \"petal_length\" \"petal_width\" \"species\"]\n"
          ]
        },
        {
          "output_type": "execute_result",
          "execution_count": 77,
          "data": {
            "text/plain": [
              "6×5 Array{Any,2}:\n",
              " 4.9  3.1  1.5  0.1  \"setosa\"\n",
              " 4.8  3    1.4  0.1  \"setosa\"\n",
              " 4.3  3    1.1  0.1  \"setosa\"\n",
              " 5.2  4.1  1.5  0.1  \"setosa\"\n",
              " 4.9  3.1  1.5  0.1  \"setosa\"\n",
              " 4.9  3.1  1.5  0.1  \"setosa\""
            ]
          },
          "metadata": {}
        }
      ],
      "execution_count": 77,
      "metadata": {
        "collapsed": false,
        "outputHidden": false,
        "inputHidden": false
      }
    },
    {
      "cell_type": "markdown",
      "source": [
        "### DataFrames! \n",
        "*Shout out to R fans!*\n",
        "One other way to play around with data in Julia is to use a DataFrame.\n",
        "\nThis requires loading the `DataFrames` package"
      ],
      "metadata": {}
    },
    {
      "cell_type": "code",
      "source": [
        "using DataFrames"
      ],
      "outputs": [],
      "execution_count": 95,
      "metadata": {
        "collapsed": true
      }
    },
    {
      "cell_type": "code",
      "source": [
        "df = DataFrame(petal_width = ir[:,4], species = ir[:,5])"
      ],
      "outputs": [
        {
          "output_type": "execute_result",
          "execution_count": 83,
          "data": {
            "text/plain": [
              "6×2 DataFrame\n",
              "│ Row │ petal_width │ species │\n",
              "│     │ \u001b[90mAny\u001b[39m         │ \u001b[90mAny\u001b[39m     │\n",
              "├─────┼─────────────┼─────────┤\n",
              "│ 1   │ 0.1         │ setosa  │\n",
              "│ 2   │ 0.1         │ setosa  │\n",
              "│ 3   │ 0.1         │ setosa  │\n",
              "│ 4   │ 0.1         │ setosa  │\n",
              "│ 5   │ 0.1         │ setosa  │\n",
              "│ 6   │ 0.1         │ setosa  │"
            ],
            "text/html": [
              "<table class=\"data-frame\"><thead><tr><th></th><th>petal_width</th><th>species</th></tr><tr><th></th><th>Any</th><th>Any</th></tr></thead><tbody><tr><th>1</th><td>0.1</td><td>setosa</td></tr><tr><th>2</th><td>0.1</td><td>setosa</td></tr><tr><th>3</th><td>0.1</td><td>setosa</td></tr><tr><th>4</th><td>0.1</td><td>setosa</td></tr><tr><th>5</th><td>0.1</td><td>setosa</td></tr><tr><th>6</th><td>0.1</td><td>setosa</td></tr></tbody></table>"
            ]
          },
          "metadata": {}
        }
      ],
      "execution_count": 83,
      "metadata": {
        "collapsed": false,
        "outputHidden": false,
        "inputHidden": false
      }
    },
    {
      "cell_type": "markdown",
      "source": [
        "You can access columns by header name, or column index.\n",
        "\n",
        "In this case, `df[1]` is equivalent to `df[:petal_width]`.\n",
        "\nNote that if we want to access columns by header name, we precede the header name with a colon! In Julia, this means that the header names are treated as *symbols*."
      ],
      "metadata": {}
    },
    {
      "cell_type": "code",
      "source": [
        "df[:petal_width]"
      ],
      "outputs": [],
      "execution_count": null,
      "metadata": {
        "collapsed": true
      }
    },
    {
      "cell_type": "markdown",
      "source": [
        "As we saw DataFrame colomuns were of types are any, so we had to convert them <br>\n",
        "\nTo avoid this we will use the `CSV` package that will read our file and return us a DataFrame"
      ],
      "metadata": {
        "collapsed": false,
        "outputHidden": false,
        "inputHidden": false
      }
    },
    {
      "cell_type": "code",
      "source": [
        "using CSV"
      ],
      "outputs": [
        {
          "output_type": "stream",
          "name": "stderr",
          "text": [
            "┌ Info: Precompiling CSV [336ed68f-0bac-5ca0-87d4-7b16caf5d00b]\n",
            "└ @ Base loading.jl:1186\n"
          ]
        }
      ],
      "execution_count": 87,
      "metadata": {
        "collapsed": false,
        "outputHidden": false,
        "inputHidden": false
      }
    },
    {
      "cell_type": "code",
      "source": [
        "df = CSV.File(\"iris_data.csv\") |> DataFrame;"
      ],
      "outputs": [],
      "execution_count": 99,
      "metadata": {
        "collapsed": false,
        "outputHidden": false,
        "inputHidden": false
      }
    },
    {
      "cell_type": "markdown",
      "source": [
        "`DataFrames` provides the `describe` can give you quick statistics about each column in your dataframe "
      ],
      "metadata": {}
    },
    {
      "cell_type": "code",
      "source": [
        "head(df)"
      ],
      "outputs": [
        {
          "output_type": "execute_result",
          "execution_count": 100,
          "data": {
            "text/plain": [
              "6×5 DataFrame\n",
              "│ Row │ sepal_length │ sepal_width │ petal_length │ petal_width │ species │\n",
              "│     │ \u001b[90mFloat64⍰\u001b[39m     │ \u001b[90mFloat64⍰\u001b[39m    │ \u001b[90mFloat64⍰\u001b[39m     │ \u001b[90mFloat64⍰\u001b[39m    │ \u001b[90mString⍰\u001b[39m │\n",
              "├─────┼──────────────┼─────────────┼──────────────┼─────────────┼─────────┤\n",
              "│ 1   │ 5.1          │ 3.5         │ 1.4          │ 0.2         │ setosa  │\n",
              "│ 2   │ 4.9          │ 3.0         │ 1.4          │ 0.2         │ setosa  │\n",
              "│ 3   │ 4.7          │ 3.2         │ 1.3          │ 0.2         │ setosa  │\n",
              "│ 4   │ 4.6          │ 3.1         │ 1.5          │ 0.2         │ setosa  │\n",
              "│ 5   │ 5.0          │ 3.6         │ 1.4          │ 0.2         │ setosa  │\n",
              "│ 6   │ 5.4          │ 3.9         │ 1.7          │ 0.4         │ setosa  │"
            ],
            "text/html": [
              "<table class=\"data-frame\"><thead><tr><th></th><th>sepal_length</th><th>sepal_width</th><th>petal_length</th><th>petal_width</th><th>species</th></tr><tr><th></th><th>Float64⍰</th><th>Float64⍰</th><th>Float64⍰</th><th>Float64⍰</th><th>String⍰</th></tr></thead><tbody><tr><th>1</th><td>5.1</td><td>3.5</td><td>1.4</td><td>0.2</td><td>setosa</td></tr><tr><th>2</th><td>4.9</td><td>3.0</td><td>1.4</td><td>0.2</td><td>setosa</td></tr><tr><th>3</th><td>4.7</td><td>3.2</td><td>1.3</td><td>0.2</td><td>setosa</td></tr><tr><th>4</th><td>4.6</td><td>3.1</td><td>1.5</td><td>0.2</td><td>setosa</td></tr><tr><th>5</th><td>5.0</td><td>3.6</td><td>1.4</td><td>0.2</td><td>setosa</td></tr><tr><th>6</th><td>5.4</td><td>3.9</td><td>1.7</td><td>0.4</td><td>setosa</td></tr></tbody></table>"
            ]
          },
          "metadata": {}
        }
      ],
      "execution_count": 100,
      "metadata": {
        "collapsed": true
      }
    },
    {
      "cell_type": "code",
      "source": [
        "typeof(df) "
      ],
      "outputs": [
        {
          "output_type": "execute_result",
          "execution_count": 104,
          "data": {
            "text/plain": [
              "DataFrame"
            ]
          },
          "metadata": {}
        }
      ],
      "execution_count": 104,
      "metadata": {
        "collapsed": true
      }
    },
    {
      "cell_type": "markdown",
      "source": [
        "**`DataFrames` provides some handy features when dealing with data**\n",
        "\nFirst, it uses the \"missing\" type."
      ],
      "metadata": {
        "collapsed": false,
        "outputHidden": false,
        "inputHidden": false
      }
    },
    {
      "cell_type": "code",
      "source": [
        "a = missing\n",
        "typeof(a)"
      ],
      "outputs": [
        {
          "output_type": "execute_result",
          "execution_count": 108,
          "data": {
            "text/plain": [
              "Missing"
            ]
          },
          "metadata": {}
        }
      ],
      "execution_count": 108,
      "metadata": {
        "collapsed": false,
        "outputHidden": false,
        "inputHidden": false
      }
    },
    {
      "cell_type": "markdown",
      "source": [
        "### RDatasets\n",
        "\n",
        "We can use RDatasets to play around with pre-existing datasets <br>\n",
        "\n[available datasets] (https://stat.ethz.ch/R-manual/R-patched/library/datasets/html/00Index.html)"
      ],
      "metadata": {
        "collapsed": true
      }
    },
    {
      "cell_type": "code",
      "source": [
        "Pkg.add(\"RDatasets\")"
      ],
      "outputs": [],
      "execution_count": null,
      "metadata": {}
    },
    {
      "cell_type": "code",
      "source": [
        "using RDatasets"
      ],
      "outputs": [],
      "execution_count": null,
      "metadata": {
        "collapsed": false,
        "outputHidden": false,
        "inputHidden": false
      }
    }
  ],
  "metadata": {
    "kernelspec": {
      "name": "julia-1.0",
      "language": "julia",
      "display_name": "Julia 1.0.0"
    },
    "language_info": {
      "file_extension": ".jl",
      "name": "julia",
      "mimetype": "application/julia",
      "version": "1.0.0"
    },
    "kernel_info": {
      "name": "julia-1.0"
    },
    "nteract": {
      "version": "0.11.9"
    }
  },
  "nbformat": 4,
  "nbformat_minor": 2
}